{
  "nbformat": 4,
  "nbformat_minor": 0,
  "metadata": {
    "colab": {
      "provenance": []
    },
    "kernelspec": {
      "name": "python3",
      "display_name": "Python 3"
    },
    "language_info": {
      "name": "python"
    }
  },
  "cells": [
    {
      "cell_type": "markdown",
      "source": [
        "# Importing libraries"
      ],
      "metadata": {
        "id": "FAOOj52FwQGB"
      }
    },
    {
      "cell_type": "code",
      "execution_count": 11,
      "metadata": {
        "id": "IUYEr0WYTKkI"
      },
      "outputs": [],
      "source": [
        "import pandas as pd\n",
        "import os\n",
        "from skimage.transform import resize\n",
        "from skimage.io import imread\n",
        "import numpy as np\n",
        "import matplotlib.pyplot as plt\n",
        "import random\n",
        "import cv2\n",
        "# open source implementation of LBP\n",
        "from skimage.feature import local_binary_pattern\n",
        "# data preprocessing and metrics module in scikit-learn\n",
        "from sklearn import preprocessing, metrics\n",
        "# SVM implementation in scikit-learn\n",
        "from sklearn.svm import LinearSVC"
      ]
    },
    {
      "cell_type": "code",
      "source": [
        "import os\n",
        "import zipfile\n",
        "import urllib.request\n",
        "import numpy as np\n",
        "from PIL import Image, ImageOps\n",
        "from pathlib import Path\n",
        "import matplotlib.pyplot as plt\n",
        "from matplotlib import cm\n",
        "import seaborn as sns"
      ],
      "metadata": {
        "id": "SVd0UNhSmbJr"
      },
      "execution_count": 14,
      "outputs": []
    },
    {
      "cell_type": "markdown",
      "source": [
        "# Features Extraction (LBP)\n",
        "https://www.youtube.com/watch?v=-lPem5Ahvfw "
      ],
      "metadata": {
        "id": "AL9u17cowX5d"
      }
    },
    {
      "cell_type": "code",
      "source": [
        "def compute_lbp(arr):\n",
        "    \"\"\"Find LBP of all pixels.\n",
        "    Also perform Vectorization/Normalization to get feature vector.\n",
        "    \"\"\"\n",
        "    # LBP function params\n",
        "    radius = 3\n",
        "    n_points = 8 * radius\n",
        "    n_bins = n_points + 2\n",
        "    lbp = local_binary_pattern(arr, n_points, radius, 'uniform')\n",
        "    lbp = lbp.ravel()\n",
        "    # feature_len = int(lbp.max() + 1)\n",
        "    feature = np.zeros(n_bins)\n",
        "    for i in lbp:\n",
        "        feature[int(i)] += 1\n",
        "    feature /= np.linalg.norm(feature, ord=1)\n",
        "    return feature"
      ],
      "metadata": {
        "id": "IhlyBaf6d0qx"
      },
      "execution_count": 13,
      "outputs": []
    },
    {
      "cell_type": "markdown",
      "source": [
        "# Preparing the data , loading and pre processing "
      ],
      "metadata": {
        "id": "s84q3DOMwuAb"
      }
    },
    {
      "cell_type": "code",
      "source": [
        "Categories=['wood','water','stone','foliage']\n",
        "flat_data_arr=[] #input array\n",
        "target_arr=[] #output array\n",
        "vec=[] #features array\n",
        "datadir='/content/drive/MyDrive/image'\n",
        "#path which contains all the categories of images\n",
        "for i in Categories:\n",
        "    print(f'loading... category : {i}')\n",
        "    path=os.path.join(datadir,i)\n",
        "    for img in os.listdir(path):\n",
        "      if (os.path.join(path,img).endswith('.jpg')):\n",
        "        img_array=imread(os.path.join(path,img),as_gray=True) #this time we will be reading our data in grayscale\n",
        "        img_resized=resize(img_array,(512,384))\n",
        "        flat_data_arr.append(img_resized.flatten())\n",
        "        feature = compute_lbp(img_resized)\n",
        "        vec.append(feature)\n",
        "        target_arr.append(Categories.index(i))\n",
        "    print(f'loaded category:{i} successfully')"
      ],
      "metadata": {
        "colab": {
          "base_uri": "https://localhost:8080/"
        },
        "id": "x8tBL3PEjCdI",
        "outputId": "4d2564ee-8cd5-4b61-f9af-b82159b32603"
      },
      "execution_count": 22,
      "outputs": [
        {
          "output_type": "stream",
          "name": "stdout",
          "text": [
            "loading... category : wood\n",
            "loaded category:wood successfully\n",
            "loading... category : water\n",
            "loaded category:water successfully\n",
            "loading... category : stone\n",
            "loaded category:stone successfully\n",
            "loading... category : foliage\n",
            "loaded category:foliage successfully\n"
          ]
        }
      ]
    },
    {
      "cell_type": "code",
      "source": [
        "data=np.array(vec)\n",
        "target=np.array(target_arr)"
      ],
      "metadata": {
        "id": "vVxr1S1hYmmN"
      },
      "execution_count": 23,
      "outputs": []
    },
    {
      "cell_type": "code",
      "source": [
        "np.shape(data)"
      ],
      "metadata": {
        "colab": {
          "base_uri": "https://localhost:8080/"
        },
        "id": "gmPh_az-cAr6",
        "outputId": "a3f9786c-c730-4e49-af8c-a3eb23da2a5c"
      },
      "execution_count": 24,
      "outputs": [
        {
          "output_type": "execute_result",
          "data": {
            "text/plain": [
              "(400, 26)"
            ]
          },
          "metadata": {},
          "execution_count": 24
        }
      ]
    },
    {
      "cell_type": "markdown",
      "source": [
        "# Preparing the dataframe"
      ],
      "metadata": {
        "id": "RTn5qLM1xDhG"
      }
    },
    {
      "cell_type": "code",
      "source": [
        "df=pd.DataFrame(vec) #dataframe\n",
        "df['Target']=target\n",
        "x=df.iloc[:,:-1] #input data \n",
        "y=df.iloc[:,-1] #output data"
      ],
      "metadata": {
        "id": "gGbWD9dOafK2"
      },
      "execution_count": 25,
      "outputs": []
    },
    {
      "cell_type": "markdown",
      "source": [
        "# Applying the model"
      ],
      "metadata": {
        "id": "df_7MLDhxIvO"
      }
    },
    {
      "cell_type": "code",
      "source": [
        "from sklearn import svm\n",
        "from sklearn.model_selection import GridSearchCV\n",
        "#param_grid={'C':[0.1,1,10,100],'gamma':[0.0001,0.001,0.1,1],'kernel':['rbf','poly']}\n",
        "svc=svm.SVC(probability=True)"
      ],
      "metadata": {
        "id": "gzviya_Yaet-"
      },
      "execution_count": 26,
      "outputs": []
    },
    {
      "cell_type": "code",
      "source": [
        "from sklearn.model_selection import train_test_split\n",
        "x_train,x_test,y_train,y_test=train_test_split(x,y,test_size=0.20,random_state=77,stratify=y)\n",
        "print('Splitted Successfully')\n",
        "svc.fit(x_train,y_train)\n",
        "print('The Model is trained well with the given images')\n",
        "# model.best_params_ contains the best parameters obtained from GridSearchCV"
      ],
      "metadata": {
        "colab": {
          "base_uri": "https://localhost:8080/"
        },
        "id": "NdaiOyl7ebvm",
        "outputId": "523864ce-005d-4244-d499-63a9631ab576"
      },
      "execution_count": 27,
      "outputs": [
        {
          "output_type": "stream",
          "name": "stdout",
          "text": [
            "Splitted Successfully\n",
            "The Model is trained well with the given images\n"
          ]
        }
      ]
    },
    {
      "cell_type": "markdown",
      "source": [
        "# Testing the model"
      ],
      "metadata": {
        "id": "FBJg79ARxT4a"
      }
    },
    {
      "cell_type": "code",
      "source": [
        "from sklearn.metrics import accuracy_score\n",
        "y_pred=svc.predict(x_test)\n",
        "print(\"The predicted Data is :\")\n",
        "print(y_pred)\n",
        "print(\"The actual data is:\")\n",
        "print(np.array(y_test))\n",
        "print(f\"The model is {accuracy_score(y_pred,y_test)*100}% accurate\")"
      ],
      "metadata": {
        "colab": {
          "base_uri": "https://localhost:8080/"
        },
        "id": "wUPGnak8U8jy",
        "outputId": "9d0aad84-49fa-4b6a-cb7e-9a75d3e0f17a"
      },
      "execution_count": 28,
      "outputs": [
        {
          "output_type": "stream",
          "name": "stdout",
          "text": [
            "The predicted Data is :\n",
            "[0 0 3 0 0 0 0 3 3 3 3 0 3 3 3 3 2 2 0 2 3 3 2 3 1 3 3 3 3 3 3 3 3 3 0 2 3\n",
            " 3 2 3 0 3 3 0 0 1 0 3 0 2 0 0 0 2 3 0 3 0 3 0 0 2 0 0 0 3 3 0 0 3 0 2 0 2\n",
            " 0 0 3 0 3 0]\n",
            "The actual data is:\n",
            "[0 0 0 0 2 0 0 3 2 3 3 2 3 3 1 3 2 2 2 2 3 3 3 1 1 2 1 1 1 1 2 3 1 1 0 2 3\n",
            " 1 1 3 0 3 1 1 1 3 0 3 0 0 3 2 0 0 3 1 3 0 1 0 0 2 0 2 0 1 2 2 2 3 0 3 2 2\n",
            " 0 2 1 2 1 1]\n",
            "The model is 50.0% accurate\n"
          ]
        }
      ]
    },
    {
      "cell_type": "markdown",
      "source": [
        "# Testing the model on external images"
      ],
      "metadata": {
        "id": "DAvLfa7Jxavf"
      }
    },
    {
      "cell_type": "code",
      "source": [
        "url=input('Enter URL of Image :')\n",
        "img=imread(url,as_gray=True)\n",
        "plt.imshow(img,cmap='gray')\n",
        "plt.show()\n",
        "img_resize=resize(img,(512,384))\n",
        "l=compute_lbp(img_resize)\n",
        "L=l.reshape(1, -1)\n",
        "probability=svc.predict_proba(L)\n",
        "for ind,val in enumerate(Categories):\n",
        "    print(f'{val} = {probability[0][ind]*100}%')\n",
        "print(\"The predicted image is : \"+Categories[svc.predict(L)[0]])"
      ],
      "metadata": {
        "colab": {
          "base_uri": "https://localhost:8080/",
          "height": 373
        },
        "id": "7kUxQxDyVlCW",
        "outputId": "4f9af0ed-97c7-4ec9-c200-c9b34c40a333"
      },
      "execution_count": 43,
      "outputs": [
        {
          "name": "stdout",
          "output_type": "stream",
          "text": [
            "Enter URL of Image :https://images.unsplash.com/photo-1615744455875-7ad33653e8c4?ixlib=rb-4.0.3&ixid=MnwxMjA3fDB8MHxleHBsb3JlLWZlZWR8M3x8fGVufDB8fHx8&w=1000&q=80\n"
          ]
        },
        {
          "output_type": "display_data",
          "data": {
            "text/plain": [
              "<Figure size 432x288 with 1 Axes>"
            ],
            "image/png": "[encoded data removed]"
          },
          "metadata": {
            "needs_background": "light"
          }
        },
        {
          "output_type": "stream",
          "name": "stdout",
          "text": [
            "wood = 8.547433654366163%\n",
            "water = 25.399679034908644%\n",
            "stone = 15.677459013385295%\n",
            "foliage = 50.37542829733985%\n",
            "The predicted image is : foliage\n"
          ]
        }
      ]
    }
  ]
}